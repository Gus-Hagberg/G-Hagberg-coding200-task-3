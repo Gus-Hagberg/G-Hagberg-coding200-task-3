{
 "cells": [
  {
   "attachments": {},
   "cell_type": "markdown",
   "metadata": {},
   "source": [
    "# <ins> **Game Design Portfolio - Gustav Hagberg Part B** - Target Labs\n",
    "---\n",
    "---"
   ]
  },
  {
   "attachments": {},
   "cell_type": "markdown",
   "metadata": {},
   "source": [
    "_**Need:**_\\\n",
    "To refine kids and teenagers between 10 and 18s dexterity motor skills, hand to eye coordination and tracking through an immersive and interactive game whilst using audio queues within it to improve spatial awareness.\n",
    "\n",
    "_**Problem Statement:**_\\\n",
    "Kids and teenagers enjoy games that benefit and are relevant to them elsewhere in life, such as an aim training game that helps develop their aim, tracking and flicking skills which also benefits their hand dexterity, their hand to eye coordination, and their spatial awareness of both visual and audio queues. This game would be entertaining to kids and improve their skills to be more competent in other games they play and parents can be happy that their kids are refining skills that they otherwise don't use often.\n",
    "Kids and teenagers nowadays in the range of 10-18 typically are left scrolling on short form video content on their phones in their spair time and their fine motor skills, spatial awareness, hand to eye coordination and tracking are impaired over time since those skills start to encounter minimal use.\n",
    "\n"
   ]
  },
  {
   "attachments": {},
   "cell_type": "markdown",
   "metadata": {},
   "source": [
    "## **Requirements Outline**\n",
    "#### **Inputs**\n",
    "1. A keyboard and mouse will be required to be ussed to set the settings for the gamemode, map (if added), and orb spawn arc, size and quantity.\n",
    "2. This gameplay itself will require inputs of left mouse clicks and a mouse cursor.\n",
    "3. Escape\n",
    "#### **Processing**\n",
    "1. The game will check for changes to settings inputs. \n",
    "2. For every left click inputted by the mouse the game checks for a hitscan for an orb. \n",
    "3. Game receives esc input.\n",
    "#### **Outputs**\n",
    "1. The chosen map will be loaded with the selected mode and difficulty that determines the orb size and amount.\n",
    "2. After an orb has detected a hitscan, depending on mode the orb will respawn immediately, respawn after the wave, or not respawn until all orbs are gone.\n",
    "3. You are brought to the main menu.\n",
    "#### **Storage**\n",
    "The game will store saves of highscore for each mode on each map, as well as setting preferances.\n"
   ]
  },
  {
   "attachments": {},
   "cell_type": "markdown",
   "metadata": {},
   "source": [
    "\n",
    "### Functional Requirements\n",
    "**User Interaction**\\\n",
    "The game will need to be able to take keyboard and mouse input to play. There isn't any need for a keyboard during the game but it would be used on the settings page. The player will use their mouse to look around and then shoot and click on orbs.\n",
    "\n",
    "**Core Gameplay and Simulation Mechanics**\n",
    "The inputs of the player will be processed by unity scripts and visualised.\n"
   ]
  }
 ],
 "metadata": {
  "language_info": {
   "name": "python"
  },
  "orig_nbformat": 4
 },
 "nbformat": 4,
 "nbformat_minor": 2
}
