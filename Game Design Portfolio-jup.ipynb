{
 "cells": [
  {
   "attachments": {},
   "cell_type": "markdown",
   "metadata": {},
   "source": [
    "# <ins> **Game Design Portfolio - Gustav Hagberg Part B** - Target Labs\n",
    "---\n",
    "---\n",
    "# _**Identifying and Defining**_"
   ]
  },
  {
   "attachments": {},
   "cell_type": "markdown",
   "metadata": {},
   "source": [
    "_**Need:**_\\\n",
    "To refine kids and teenagers between 10 and 18s dexterity motor skills, hand to eye coordination and tracking through an immersive and interactive game whilst using audio queues within it to improve spatial awareness.\n",
    "\n",
    "_**Problem Statement:**_\\\n",
    "Kids and teenagers enjoy games that benefit and are relevant to them elsewhere in life, such as an aim training game that helps develop their aim, tracking and flicking skills which also benefits their hand dexterity, their hand to eye coordination, and their spatial awareness of both visual and audio queues. This game would be entertaining to kids and improve their skills to be more competent in other games they play and parents can be happy that their kids are refining skills that they otherwise don't use often.\n",
    "Kids and teenagers nowadays in the range of 10-18 typically are left scrolling on short form video content on their phones in their spair time and their fine motor skills, spatial awareness, hand to eye coordination and tracking are impaired over time since those skills start to encounter minimal use.\n",
    "\n"
   ]
  },
  {
   "attachments": {},
   "cell_type": "markdown",
   "metadata": {},
   "source": [
    "## **Requirements Outline**\n",
    "#### **Inputs**\n",
    "1. A keyboard and mouse will be required to be ussed to set the settings for the gamemode, map (if added), and orb spawn arc, size and quantity.\n",
    "2. This gameplay itself will require inputs of left mouse clicks and a mouse cursor.\n",
    "3. Escape\n",
    "#### **Processing**\n",
    "1. The game will check for changes to settings inputs. \n",
    "2. For every left click inputted by the mouse the game checks for a hitscan for an orb. \n",
    "3. Game receives esc input.\n",
    "#### **Outputs**\n",
    "1. The chosen map will be loaded with the selected mode and difficulty that determines the orb size and amount.\n",
    "2. After an orb has detected a hitscan, depending on mode the orb will respawn immediately, respawn after the wave, or not respawn until all orbs are gone.\n",
    "3. You are brought to the main menu.\n",
    "#### **Storage**\n",
    "The game will store saves of highscore for each mode on each map, as well as setting preferances.\n"
   ]
  },
  {
   "attachments": {},
   "cell_type": "markdown",
   "metadata": {},
   "source": [
    "\n",
    "### **Functional Requirements**\n",
    "**User Interaction**\\\n",
    "The game will need to be able to take keyboard and mouse input to play. There isn't any need for a keyboard during the game but it would be used on the settings page. The player will use their mouse to look around.\n",
    "\n",
    "**Core Gameplay and Simulation Mechanics**\\\n",
    "You shoot orbs that pop and reappear elsewhere and have to get as many as you can in a given time. Mechanics of having the orbs get hitscanned and disappear whilst spawning another one elsewhere is required.\n",
    "\n",
    "**Scoring and feedback**\\\n",
    "Your high score of each mode will be tracked.\n",
    "\n",
    "**settings save**\\\n",
    "Your presets in settings of sensitivty and keybinds will be saved."
   ]
  },
  {
   "attachments": {},
   "cell_type": "markdown",
   "metadata": {},
   "source": [
    "### **Non-Functional Requirements**\n"
   ]
  },
  {
   "attachments": {},
   "cell_type": "markdown",
   "metadata": {},
   "source": [
    "**Performance Requirements**\\\n",
    "The game must be able to load in less than a minute.\\\n",
    "The game must be able to run at > 60 fps and respond to inputs with low latency.\\\n",
    "The movement of the camera needs to be smooth and not juttery.\\\n",
    "\n",
    "**Usability Requirements**\\\n",
    "The game requires a tutorial demonstration on how to play the game upon playing the game for the first time.\n",
    "\n",
    "**Compatibility Requirements**\\\n",
    "The game must be compatibile on windows PCs.\n",
    "\n",
    "**Scalability Requirements**\\\n",
    "The game must be able to scale and have the capacity for adding features such as different maps, new modes, limited ammo modes as well in the future.\n",
    "\n",
    "**Security Requirements**\\\n",
    "The game will involve no sensitive data apart from the possibility for adding an email high score feature which will not remember the email used after submitting to ensure other pllayers won't get access to it.\n",
    "\n",
    "**Reliability and Availability**\\\n",
    "The game should be able to be available 24/7 through having updates as options and not immediate requirements as the game is not connected online with any other people."
   ]
  },
  {
   "attachments": {},
   "cell_type": "markdown",
   "metadata": {},
   "source": [
    "### <ins> **Consideration of Social and Ethical Issues**\n",
    "**Definitions of  key terms:**\\\n",
    "*Equity*: The quality of being fair and impartial.\\\n",
    "*Accessibility*: The quality of being easy to obtain or use.\\"
   ]
  },
  {
   "attachments": {},
   "cell_type": "markdown",
   "metadata": {},
   "source": [
    "**Accessibility**\\\n",
    "This project will be able to be used by anyone who can see and have 1 functional hand.\\\n",
    "This game will be equipped with subtitles and customisable controls for people with impairments who are unable to play on the default controls.\n",
    "\n",
    "**Privacy and Data Protection**\\\n",
    "My project will only store user data from their settings and no personal data.\\\n",
    "The information of the user settings will only be stored by user consent.\n",
    "\n",
    "**Fairness and representation**\\\n",
    "The project avoids all stereotypes and bias.\\\n",
    "This game is first person and there are no other people visible so representing different genders, races and cultures are not a concern.\n",
    "\n",
    "**Mental and Emotional Well-Being**\\\n",
    "This game's stimulus could affect users' mental health that experience PTSD of shooting but it is clearly shown before playing to account for that.\\\n",
    "\n",
    "**Cultural Sensitivities**\\\n",
    "The content in this game could be offensive to people who are pacifists and don't like violence but that goes with every shooter game and is clearly displayed before playing, but this game does only shoot orbs which shows no violence or death of other people.\\\n",
    "There are no symbols that may be inappropriate or misunderstood by users but there are themes of firearms which might come off as innapropriate to certain cultural backgrounds."
   ]
  }
 ],
 "metadata": {
  "language_info": {
   "name": "python"
  },
  "orig_nbformat": 4
 },
 "nbformat": 4,
 "nbformat_minor": 2
}
